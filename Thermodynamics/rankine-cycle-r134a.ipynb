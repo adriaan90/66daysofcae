{
 "cells": [
  {
   "cell_type": "markdown",
   "metadata": {},
   "source": [
    "# Rankine problem\n",
    "\n",
    "## The question\n",
    "\n",
    "A power plant based on the Rankine cycle is under development to provide a net power output of 10 MW. \n",
    "Solar collectors are to be used to generate Refrigerant 22 vapor at 1.6MPa, $50^\\circ\\text{C}$, for expansion through the turbine. Cooling water is available at $20^\\circ\\text{C}$. \n",
    "Specify the preliminary design of the cycle and estimate the thermal efficiency and the refrigerant and cooling water flow rates in kg/h."
   ]
  },
  {
   "cell_type": "markdown",
   "metadata": {},
   "source": [
    "## Step 1: Configure PYroMat\n",
    "\n",
    "Unfortunately PYroMat does not have R22 multiphase tables, so I have opted for R134a instead as the multiphase tables are available in PYroMat."
   ]
  },
  {
   "cell_type": "code",
   "execution_count": 1,
   "metadata": {},
   "outputs": [],
   "source": [
    "import pyromat as pm"
   ]
  },
  {
   "cell_type": "code",
   "execution_count": 2,
   "metadata": {},
   "outputs": [
    {
     "data": {
      "text/plain": [
       "     config_file : ['C:\\\\Users\\\\a-vanniekerk\\\\Anaconda3\\\\lib\\\\site-pa...\n",
       "  config_verbose : False\n",
       "         dat_dir : ['C:\\\\Users\\\\a-vanniekerk\\\\Anaconda3\\\\lib\\\\site-pa...\n",
       " dat_exist_fatal : False\n",
       "   dat_overwrite : True\n",
       "   dat_recursive : True\n",
       "     dat_verbose : False\n",
       "           def_T : 298.15\n",
       "           def_p : 1.01325\n",
       "     install_dir : 'C:\\\\Users\\\\a-vanniekerk\\\\Anaconda3\\\\lib\\\\site-pac...\n",
       "         reg_dir : ['C:\\\\Users\\\\a-vanniekerk\\\\Anaconda3\\\\lib\\\\site-pa...\n",
       " reg_exist_fatal : False\n",
       "   reg_overwrite : True\n",
       "     reg_verbose : False\n",
       "     unit_energy : 'kJ'\n",
       "      unit_force : 'N'\n",
       "     unit_length : 'm'\n",
       "       unit_mass : 'kg'\n",
       "     unit_matter : 'kg'\n",
       "      unit_molar : 'kmol'\n",
       "   unit_pressure : 'bar'\n",
       "unit_temperature : 'K'\n",
       "       unit_time : 's'\n",
       "     unit_volume : 'm3'\n",
       "         version : '2.0.12'"
      ]
     },
     "execution_count": 2,
     "metadata": {},
     "output_type": "execute_result"
    }
   ],
   "source": [
    "pm.config"
   ]
  },
  {
   "cell_type": "code",
   "execution_count": 3,
   "metadata": {},
   "outputs": [],
   "source": [
    "pm.config[\"unit_pressure\"]=\"kPa\""
   ]
  },
  {
   "cell_type": "code",
   "execution_count": 4,
   "metadata": {},
   "outputs": [],
   "source": [
    "R134a = pm.get(\"mp.C2H2F4\")"
   ]
  },
  {
   "cell_type": "markdown",
   "metadata": {},
   "source": [
    "## Step 2: Cycle set-up\n",
    "\n",
    "The following points are assigned for the different stages of the rankine cycle under consideration:\n",
    "\n",
    "point 1: before pump\\\n",
    "point 2: before solar collectors\\\n",
    "point 3: before turbine\\\n",
    "point 4: before condenser\n",
    "\n",
    "Condenser saturated liquid temperature is assumed at $T_1=25^\\circ\\text{C}$.\n",
    "\n",
    "## Step 3: Calculations"
   ]
  },
  {
   "cell_type": "code",
   "execution_count": 5,
   "metadata": {},
   "outputs": [
    {
     "name": "stdout",
     "output_type": "stream",
     "text": [
      "h1 = 234.5 kJ/kg\n"
     ]
    }
   ],
   "source": [
    "T1 = 25+273.15 #K\n",
    "p1 = R134a.ps(T=T1)\n",
    "v1 = 1/R134a.ds(T=T1)[0]\n",
    "h1 = R134a.hs(T=T1)[0]\n",
    "print(f\"h1 = {round(float(h1),1)} kJ/kg\")"
   ]
  },
  {
   "cell_type": "code",
   "execution_count": 6,
   "metadata": {},
   "outputs": [
    {
     "name": "stdout",
     "output_type": "stream",
     "text": [
      "Work required by pump: 0.8 kJ/kg\n"
     ]
    }
   ],
   "source": [
    "p2 = 1.6*1000 #kPa\n",
    "W_pump = v1*(p2-p1)\n",
    "h2 = h1+W_pump\n",
    "print(f\"Work required by pump: {round(float(W_pump),1)} kJ/kg\")"
   ]
  },
  {
   "cell_type": "code",
   "execution_count": 7,
   "metadata": {},
   "outputs": [
    {
     "name": "stdout",
     "output_type": "stream",
     "text": [
      "h3 = 271.5 kJ/kg\n"
     ]
    }
   ],
   "source": [
    "p3 = p2\n",
    "T3 = 50+273.15 #K\n",
    "h3 = R134a.h(p=p3, T=T3)\n",
    "s3 = R134a.s(p=p3, T=T3)\n",
    "print(f\"h3 = {round(float(h3),1)} kJ/kg\")"
   ]
  },
  {
   "cell_type": "code",
   "execution_count": 8,
   "metadata": {},
   "outputs": [
    {
     "name": "stdout",
     "output_type": "stream",
     "text": [
      "Heat input by the solar collectors: 36.2 kJ/kg\n"
     ]
    }
   ],
   "source": [
    "q_H = h3-h2\n",
    "print(f\"Heat input by the solar collectors: {round(float(q_H),1)} kJ/kg\")"
   ]
  },
  {
   "cell_type": "code",
   "execution_count": 9,
   "metadata": {},
   "outputs": [
    {
     "name": "stdout",
     "output_type": "stream",
     "text": [
      "Quality of low pressure steam: 0.1952\n"
     ]
    }
   ],
   "source": [
    "s4 = s3\n",
    "p4 = p1\n",
    "x4 = R134a.T_s(p=p4, s=s4, quality=True)[1]\n",
    "print(f\"Quality of low pressure steam: {round(float(x4),4)}\")"
   ]
  },
  {
   "cell_type": "code",
   "execution_count": 10,
   "metadata": {},
   "outputs": [
    {
     "name": "stdout",
     "output_type": "stream",
     "text": [
      "h4 = 269.3 kJ/kg\n"
     ]
    }
   ],
   "source": [
    "h4 = R134a.h(p=p4, x=x4)\n",
    "print(f\"h4 = {round(float(h4),1)} kJ/kg\")"
   ]
  },
  {
   "cell_type": "code",
   "execution_count": 11,
   "metadata": {},
   "outputs": [
    {
     "name": "stdout",
     "output_type": "stream",
     "text": [
      "Work generated by turbine: 2.2 kJ/kg\n"
     ]
    }
   ],
   "source": [
    "W_turbine = h3-h4\n",
    "print(f\"Work generated by turbine: {round(float(W_turbine),1)} kJ/kg\")"
   ]
  },
  {
   "cell_type": "code",
   "execution_count": 12,
   "metadata": {},
   "outputs": [
    {
     "name": "stdout",
     "output_type": "stream",
     "text": [
      "Thermal efficiency is: 4.07%\n"
     ]
    }
   ],
   "source": [
    "eta_th = (W_turbine-W_pump)/q_H*100\n",
    "print(f\"Thermal efficiency is: {round(float(eta_th),2)}%\")"
   ]
  },
  {
   "cell_type": "markdown",
   "metadata": {},
   "source": [
    "## Reversible heat engine\n",
    "\n",
    "We can test our thermal efficiency answer by using **Carnot's theorem**: \n",
    "\n",
    "> No engine operating between two heat reservoirs can be more efficient than a Carnot engine operating between the same reservoirs.\n",
    "\n",
    "For a completely reversible heat engine the following is true: $$\\eta_{th}=\\frac{W}{Q_H}=1-\\frac{T_C}{T_H}$$"
   ]
  },
  {
   "cell_type": "code",
   "execution_count": 13,
   "metadata": {},
   "outputs": [
    {
     "name": "stdout",
     "output_type": "stream",
     "text": [
      "Thermal efficiency is: 7.74%\n"
     ]
    }
   ],
   "source": [
    "T_H = T3\n",
    "T_C = T1\n",
    "eta_th = 1-T_C/T_H\n",
    "print(f\"Thermal efficiency is: {round(float(eta_th*100),2)}%\")"
   ]
  },
  {
   "cell_type": "markdown",
   "metadata": {},
   "source": [
    "The calculated efficiency of the rankine cycle of 4.07% is less than the maximum possible efficiency of 7.74%. The calculated efficiency is thus reasonable"
   ]
  },
  {
   "cell_type": "code",
   "execution_count": null,
   "metadata": {},
   "outputs": [],
   "source": []
  }
 ],
 "metadata": {
  "kernelspec": {
   "display_name": "Python 3",
   "language": "python",
   "name": "python3"
  },
  "language_info": {
   "codemirror_mode": {
    "name": "ipython",
    "version": 3
   },
   "file_extension": ".py",
   "mimetype": "text/x-python",
   "name": "python",
   "nbconvert_exporter": "python",
   "pygments_lexer": "ipython3",
   "version": "3.8.5"
  }
 },
 "nbformat": 4,
 "nbformat_minor": 4
}
